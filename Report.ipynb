{
 "cells": [
  {
   "cell_type": "markdown",
   "metadata": {},
   "source": [
    "# Navigation"
   ]
  },
  {
   "cell_type": "markdown",
   "metadata": {},
   "source": [
    "This notebook contains the solution to the navigation problem in the udacity deep reinforcement learning program. "
   ]
  },
  {
   "cell_type": "markdown",
   "metadata": {},
   "source": [
    "# 1. Importing dependencies and starting the environment"
   ]
  },
  {
   "cell_type": "markdown",
   "metadata": {},
   "source": [
    "We will start by importing the required dependencies for this project, this project contains two python classes, one for the model and one of the RL agent"
   ]
  },
  {
   "cell_type": "code",
   "execution_count": 1,
   "metadata": {},
   "outputs": [],
   "source": [
    "from unityagents import UnityEnvironment\n",
    "import numpy as np\n",
    "from collections import deque\n",
    "\n",
    "from plot import Plot, PlotSingle"
   ]
  },
  {
   "cell_type": "markdown",
   "metadata": {},
   "source": [
    "Next we will load the unity environment and get the default brain"
   ]
  },
  {
   "cell_type": "code",
   "execution_count": 2,
   "metadata": {},
   "outputs": [
    {
     "name": "stderr",
     "output_type": "stream",
     "text": [
      "INFO:unityagents:\n",
      "'Academy' started successfully!\n",
      "Unity Academy name: Academy\n",
      "        Number of Brains: 1\n",
      "        Number of External Brains : 1\n",
      "        Lesson number : 0\n",
      "        Reset Parameters :\n",
      "\t\t\n",
      "Unity brain name: BananaBrain\n",
      "        Number of Visual Observations (per agent): 0\n",
      "        Vector Observation space type: continuous\n",
      "        Vector Observation space size (per agent): 37\n",
      "        Number of stacked Vector Observation: 1\n",
      "        Vector Action space type: discrete\n",
      "        Vector Action space size (per agent): 4\n",
      "        Vector Action descriptions: , , , \n"
     ]
    }
   ],
   "source": [
    "def reset_env():\n",
    "    env = UnityEnvironment(file_name=\"./Banana_Windows_x86_64/Banana.app\")\n",
    "    brain_name = env.brain_names[0]\n",
    "    brain = env.brains[brain_name]\n",
    "    env_info = env.reset(train_mode=True)[brain_name]\n",
    "    state_size = len(env_info.vector_observations[0])\n",
    "    num_actions = brain.vector_action_space_size\n",
    "    return env, env_info, state_size, num_actions, brain_name\n",
    "\n",
    "env, env_info, state_size, num_actions, brain_name = reset_env()"
   ]
  },
  {
   "cell_type": "markdown",
   "metadata": {},
   "source": [
    "### 2. Examine the State and Action Spaces\n",
    "\n",
    "The simulation contains a single agent that navigates a large environment.  At each time step, it has four actions at its disposal:\n",
    "- `0` - walk forward \n",
    "- `1` - walk backward\n",
    "- `2` - turn left\n",
    "- `3` - turn right\n",
    "\n",
    "The state space has `37` dimensions and contains the agent's velocity, along with ray-based perception of objects around agent's forward direction.  A reward of `+1` is provided for collecting a yellow banana, and a reward of `-1` is provided for collecting a blue banana. \n"
   ]
  },
  {
   "cell_type": "code",
   "execution_count": 3,
   "metadata": {},
   "outputs": [
    {
     "name": "stdout",
     "output_type": "stream",
     "text": [
      "Number of agents: 1\n",
      "Number of actions: 4\n",
      "States look like: [0.         1.         0.         0.         0.16895212 0.\n",
      " 1.         0.         0.         0.20073597 1.         0.\n",
      " 0.         0.         0.12865657 0.         1.         0.\n",
      " 0.         0.14938059 1.         0.         0.         0.\n",
      " 0.58185619 0.         1.         0.         0.         0.16089135\n",
      " 0.         1.         0.         0.         0.31775284 0.\n",
      " 0.        ]\n",
      "States have length: 37\n"
     ]
    }
   ],
   "source": [
    "# reset the environment\n",
    "env_info = env.reset(train_mode=True)[brain_name]\n",
    "\n",
    "# number of agents in the environment\n",
    "print('Number of agents:', len(env_info.agents))\n",
    "\n",
    "# number of actions\n",
    "print('Number of actions:', num_actions)\n",
    "\n",
    "# examine the state space \n",
    "state = env_info.vector_observations[0]\n",
    "print('States look like:', state)\n",
    "state_size = len(state)\n",
    "print('States have length:', state_size)"
   ]
  },
  {
   "cell_type": "markdown",
   "metadata": {},
   "source": [
    "### 3. Create the train dqn agent "
   ]
  },
  {
   "cell_type": "code",
   "execution_count": 4,
   "metadata": {},
   "outputs": [],
   "source": [
    "import torch\n",
    "def dqn(agent, agent_type, env, brain_name, num_episodes=2000, max_t=1000, eps_start=1.0, eps_end=0.01, eps_decay=0.995):\n",
    "    \n",
    "    eps=eps_start\n",
    "    score = 0\n",
    "    score_window = deque(maxlen=100)\n",
    "    scores = []\n",
    "    \n",
    "    for i_episode in range(1, num_episodes+1):\n",
    "        env_info = env.reset(train_mode=True)[brain_name]\n",
    "        state = env_info.vector_observations[0]\n",
    "        score = 0\n",
    "        for t in range(max_t):\n",
    "            action = agent.act(state, eps).astype(int)\n",
    "            \n",
    "            env_info = env.step(action)[brain_name]        # send the action to the environment\n",
    "            next_state = env_info.vector_observations[0]   # get the next state\n",
    "            reward = env_info.rewards[0]                   # get the reward\n",
    "            done = env_info.local_done[0] \n",
    "            \n",
    "            agent.step(state, action, reward, next_state, done)\n",
    "            state = next_state\n",
    "            score += reward\n",
    "            if done:\n",
    "                break\n",
    "                \n",
    "        score_window.append(score)\n",
    "        scores.append(score)\n",
    "            \n",
    "        eps = max(eps_end, eps_decay*eps)\n",
    "            \n",
    "        #print('\\rEpisode {}\\tAverage Score: {:.2f}'.format(i_episode, np.mean(score_window)), end=\"\")\n",
    "            \n",
    "        if i_episode % 100 == 0:\n",
    "            print('\\rEpisode {}\\tAverage Score: {:.2f}'.format(i_episode, np.mean(score_window)))\n",
    "        \n",
    "        if np.mean(score_window)>=13.0:\n",
    "            print('\\nEnvironment solved in {:d} episodes!\\tAverage Score: {:.2f}'.format(i_episode-100, np.mean(score_window)))\n",
    "            torch.save(agent.qnet_local.state_dict(), agent_type)\n",
    "            break\n",
    "        torch.save(agent.qnet_local.state_dict(), './saved_models/' + agent_type)\n",
    "    \n",
    "    return scores"
   ]
  },
  {
   "cell_type": "code",
   "execution_count": null,
   "metadata": {},
   "outputs": [
    {
     "name": "stdout",
     "output_type": "stream",
     "text": [
      "THE DEVICE IS\n",
      "cuda:0\n",
      "QNet(\n",
      "  (h1): Linear(in_features=37, out_features=20, bias=True)\n",
      "  (h2): Linear(in_features=20, out_features=15, bias=True)\n",
      "  (out): Linear(in_features=15, out_features=4, bias=True)\n",
      ")\n",
      "Training Vanilla DQN\n"
     ]
    }
   ],
   "source": [
    "from agent import Agent\n",
    "\n",
    "vanilla_dqn = Agent(state_size,  num_actions, use_double_q=False, use_dueling_net=False)\n",
    "\n",
    "# Train the agent\n",
    "print(\"Training Vanilla DQN\")\n",
    "env.reset(train_mode=True)[brain_name]\n",
    "scores = dqn(vanilla_dqn,\"Vanilla\",  env, brain_name)\n",
    "\n",
    "plt = PlotSingle(scores, \"Vanilla DQN\")\n",
    "plt.make_plot()\n"
   ]
  },
  {
   "cell_type": "code",
   "execution_count": null,
   "metadata": {},
   "outputs": [],
   "source": [
    "from agent import Agent\n",
    "\n",
    "Double_DQN = Agent(state_size,  num_actions, use_double_q=True, use_dueling_net=False)\n",
    "\n",
    "# Train the agent\n",
    "print(\"Training Double DQN\")\n",
    "env.reset(train_mode=True)[brain_name]\n",
    "scores = dqn(Double_DQN,\"Double_DQN\",  env, brain_name)\n",
    "\n",
    "plt = PlotSingle(scores, \"Double DQN\")\n",
    "plt.make_plot()\n"
   ]
  },
  {
   "cell_type": "code",
   "execution_count": null,
   "metadata": {
    "scrolled": true
   },
   "outputs": [],
   "source": [
    "from agent import Agent\n",
    "\n",
    "Dueling_DQN = Agent(state_size,  num_actions, use_double_q=False, use_dueling_net=True)\n",
    "\n",
    "# Train the agent\n",
    "print(\"Training Dueling DQN\")\n",
    "env.reset(train_mode=True)[brain_name]\n",
    "scores = dqn(Dueling_DQN,\"Dueling_DQN\",  env, brain_name)\n",
    "\n",
    "plt = PlotSingle(scores, \"Dueling DQN\")\n",
    "plt.make_plot()\n"
   ]
  },
  {
   "cell_type": "code",
   "execution_count": 5,
   "metadata": {},
   "outputs": [
    {
     "name": "stdout",
     "output_type": "stream",
     "text": [
      "THE DEVICE IS\n",
      "cuda:0\n",
      "Dueling_DQN(\n",
      "  (h1): Linear(in_features=37, out_features=20, bias=True)\n",
      "  (h2): Linear(in_features=20, out_features=15, bias=True)\n",
      "  (adv): Linear(in_features=15, out_features=15, bias=True)\n",
      "  (val): Linear(in_features=15, out_features=15, bias=True)\n",
      "  (adv2): Linear(in_features=15, out_features=4, bias=True)\n",
      "  (val2): Linear(in_features=15, out_features=1, bias=True)\n",
      "  (relu): ReLU()\n",
      ")\n",
      "Training Dueling Double DQN\n",
      "Episode 100\tAverage Score: -0.04\n",
      "Episode 200\tAverage Score: 0.41\n",
      "Episode 300\tAverage Score: 1.93\n",
      "Episode 400\tAverage Score: 2.60\n",
      "Episode 500\tAverage Score: 2.27\n",
      "Episode 600\tAverage Score: 4.69\n",
      "Episode 700\tAverage Score: 6.94\n",
      "Episode 800\tAverage Score: 8.65\n",
      "Episode 900\tAverage Score: 10.54\n",
      "Episode 1000\tAverage Score: 9.81\n",
      "Episode 1100\tAverage Score: 8.68\n",
      "Episode 1200\tAverage Score: 8.42\n",
      "Episode 1300\tAverage Score: 9.80\n",
      "Episode 1400\tAverage Score: 9.75\n",
      "Episode 1500\tAverage Score: 9.24\n",
      "Episode 1600\tAverage Score: 8.84\n",
      "Episode 1700\tAverage Score: 9.97\n",
      "Episode 1800\tAverage Score: 9.35\n",
      "Episode 1900\tAverage Score: 8.75\n",
      "Episode 2000\tAverage Score: 9.35\n"
     ]
    },
    {
     "data": {
      "image/png": "[encoded data removed]",
      "text/plain": [
       "<Figure size 432x288 with 1 Axes>"
      ]
     },
     "metadata": {},
     "output_type": "display_data"
    }
   ],
   "source": [
    "from agent import Agent\n",
    "\n",
    "Dueling_Double_DQN = Agent(state_size,  num_actions, use_double_q=True, use_dueling_net=True)\n",
    "\n",
    "# Train the agent\n",
    "print(\"Training Dueling Double DQN\")\n",
    "env.reset(train_mode=True)[brain_name]\n",
    "scores = dqn(Dueling_Double_DQN,\"Dueling_Double_DQN\",  env, brain_name)\n",
    "\n",
    "plt = PlotSingle(scores, \"Dueling Double DQN\")\n",
    "plt.make_plot()\n"
   ]
  },
  {
   "cell_type": "code",
   "execution_count": null,
   "metadata": {},
   "outputs": [],
   "source": []
  }
 ],
 "metadata": {
  "kernelspec": {
   "display_name": "Python 3",
   "language": "python",
   "name": "python3"
  },
  "language_info": {
   "codemirror_mode": {
    "name": "ipython",
    "version": 3
   },
   "file_extension": ".py",
   "mimetype": "text/x-python",
   "name": "python",
   "nbconvert_exporter": "python",
   "pygments_lexer": "ipython3",
   "version": "3.6.6"
  }
 },
 "nbformat": 4,
 "nbformat_minor": 2
}
